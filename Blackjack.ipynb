{
 "cells": [
  {
   "cell_type": "code",
   "execution_count": 3,
   "metadata": {
    "collapsed": false
   },
   "outputs": [],
   "source": [
    "import numpy as np"
   ]
  },
  {
   "cell_type": "code",
   "execution_count": 11,
   "metadata": {
    "collapsed": true
   },
   "outputs": [],
   "source": [
    "def getCard():\n",
    "    card =  np.random.choice(range(1, 14))\n",
    "    if card == 1:\n",
    "        return 11\n",
    "    if card >= 10:\n",
    "        return 10\n",
    "    return card"
   ]
  },
  {
   "cell_type": "code",
   "execution_count": 5,
   "metadata": {
    "collapsed": true
   },
   "outputs": [],
   "source": [
    "def toss():\n",
    "    if np.random.random() < 0.5:\n",
    "        return True\n",
    "    else:\n",
    "        return False"
   ]
  },
  {
   "cell_type": "code",
   "execution_count": 9,
   "metadata": {
    "collapsed": false
   },
   "outputs": [],
   "source": [
    "dealerSum = 10\n",
    "takeCard = dealerSum < 17\n",
    "if not takeCard:\n",
    "    print(\"a\")"
   ]
  },
  {
   "cell_type": "code",
   "execution_count": 26,
   "metadata": {
    "collapsed": false
   },
   "outputs": [
    {
     "name": "stdout",
     "output_type": "stream",
     "text": [
      "5\n"
     ]
    }
   ],
   "source": [
    "print(5) "
   ]
  },
  {
   "cell_type": "code",
   "execution_count": 27,
   "metadata": {
    "collapsed": false
   },
   "outputs": [],
   "source": [
    "def fetchCardAndUpdate(currentSum, usableAce, debug = False):\n",
    "    busted = False\n",
    "    card = getCard()\n",
    "    if debug: print(card)\n",
    "    currentSum += card\n",
    "    if currentSum > 21:\n",
    "        if usableAce and  card == 11:\n",
    "                currentSum -= 10\n",
    "        elif usableAce or card == 11:\n",
    "                currentSum -= 10\n",
    "                usableAce = False\n",
    "        else:\n",
    "            busted = True\n",
    "    elif card == 11:\n",
    "        usableAce = True\n",
    "     \n",
    "    return currentSum, usableAce, busted"
   ]
  },
  {
   "cell_type": "code",
   "execution_count": 36,
   "metadata": {
    "collapsed": false
   },
   "outputs": [],
   "source": [
    "DEALER_WIN = 0\n",
    "PLAYER_WIN = 1\n",
    "PUSH = 2\n",
    "\n",
    "def play(debug = False):\n",
    "    playerSum = 0\n",
    "    dealerSum = 0\n",
    "    usableAcePlayer = False\n",
    "    usableAceDealer = False\n",
    "    playerCard = getCard()\n",
    "    playerSum += playerCard\n",
    "    if (playerCard == 11):\n",
    "        usableAcePlayer = True\n",
    "    if debug: print(\"player: \", playerCard)\n",
    "    \n",
    "    dealerCard = getCard()\n",
    "    dealerSum += dealerCard\n",
    "    if (dealerCard == 11):\n",
    "        usableAceDealer = True\n",
    "    \n",
    "    if debug: print(\"dealer: \", dealerCard)\n",
    "    \n",
    "    playerCard = getCard()\n",
    "    playerSum += playerCard\n",
    "    if (playerCard == 11):\n",
    "        usableAcePlayer = True\n",
    "    if playerSum == 22:\n",
    "        playerSum -= 10\n",
    "    \n",
    "    if debug: print(\"player: \", playerCard)\n",
    "    if debug: print(\"playerSum: \", playerSum)\n",
    "    \n",
    "    trajectory = []\n",
    "    # player turn\n",
    "    while True:\n",
    "        takeCard = False\n",
    "        if (playerSum <= 11):\n",
    "            takeCard = True\n",
    "        elif playerSum == 21:\n",
    "            takeCard = False\n",
    "        else:\n",
    "            takeCard = toss()\n",
    "            trajectory.append((playerSum, dealerSum, usableAcePlayer,takeCard))\n",
    "        \n",
    "        if not takeCard:\n",
    "            break\n",
    "         \n",
    "        if debug: print(\"player:\") \n",
    "        playerSum, usableAcePlayer, busted = fetchCardAndUpdate(playerSum, usableAcePlayer)\n",
    "        if debug: print(\"playersum: \", playerSum) \n",
    "        if busted:\n",
    "            return DEALER_WIN, trajectory\n",
    "    while True:\n",
    "        takeCard = dealerSum < 17\n",
    "        if not takeCard:\n",
    "            break\n",
    "        if debug: print(\"dealer:\")\n",
    "        dealerSum, usableAceDealer, busted = fetchCardAndUpdate(dealerSum, usableAceDealer)\n",
    "        if debug: print(\"dealerSum: \", dealerSum)\n",
    "        if busted:\n",
    "            return PLAYER_WIN, trajectory\n",
    "\n",
    "    if dealerSum > playerSum:\n",
    "        return DEALER_WIN, trajectory\n",
    "    elif playerSum > dealerSum:\n",
    "        return PLAYER_WIN, trajectory\n",
    "    else:\n",
    "        return PUSH, trajectory"
   ]
  },
  {
   "cell_type": "code",
   "execution_count": 37,
   "metadata": {
    "collapsed": true
   },
   "outputs": [],
   "source": [
    "def monteCarlo(nEpisodes):\n",
    "    outcomes = np.zeros(3)\n",
    "    stateActionValues = np.zeros((9, 10, 2, 2))\n",
    "    stateActionCount = np.ones((9, 10, 2, 2))\n",
    "    for episode in range(nEpisodes):\n",
    "        outcome, trajectory = play()\n",
    "        reward = 0\n",
    "        if outcome == DEALER_WIN:\n",
    "            reward = -1\n",
    "        elif outcome == PLAYER_WIN:\n",
    "            reward = 1\n",
    "        else:\n",
    "            reward = 0\n",
    "        \n",
    "        for playerSum, dealerSum, usableAce,  action in trajectory:\n",
    "            playerSumState = playerSum - 12\n",
    "            dealerSumState = dealerSum - 2\n",
    "            usableAceState = 1 if usableAce else 0\n",
    "            actionState = 1 if action else 0\n",
    "            stateActionValues[playerSumState, dealerSumState, usableAceState, actionState] += reward\n",
    "            stateActionCount[playerSumState, dealerSumState, usableAceState, actionState] += 1\n",
    "        outcomes[outcome] += 1\n",
    "    return outcomes, stateActionValues/stateActionCount"
   ]
  },
  {
   "cell_type": "code",
   "execution_count": 56,
   "metadata": {
    "collapsed": false
   },
   "outputs": [],
   "source": [
    "outcomes, state_values = monteCarlo(10000000)"
   ]
  },
  {
   "cell_type": "code",
   "execution_count": 54,
   "metadata": {
    "collapsed": false
   },
   "outputs": [],
   "source": [
    "withAce = np.zeros((9,10))\n",
    "for i in range(9):\n",
    "    for j in range(10):\n",
    "        withAce[i, j] = np.argmax(state_values[i, j, 1, :])"
   ]
  },
  {
   "cell_type": "code",
   "execution_count": 55,
   "metadata": {
    "collapsed": false
   },
   "outputs": [
    {
     "data": {
      "text/plain": [
       "array([[ 1.,  1.,  0.,  1.,  1.,  1.,  1.,  1.,  1.,  1.],\n",
       "       [ 1.,  1.,  1.,  1.,  1.,  1.,  1.,  1.,  1.,  1.],\n",
       "       [ 1.,  1.,  1.,  1.,  1.,  1.,  1.,  1.,  1.,  1.],\n",
       "       [ 1.,  1.,  1.,  1.,  1.,  1.,  1.,  1.,  1.,  1.],\n",
       "       [ 1.,  1.,  1.,  1.,  1.,  1.,  1.,  1.,  1.,  1.],\n",
       "       [ 0.,  0.,  0.,  1.,  0.,  0.,  1.,  1.,  1.,  1.],\n",
       "       [ 0.,  0.,  0.,  0.,  0.,  0.,  0.,  0.,  0.,  0.],\n",
       "       [ 0.,  0.,  0.,  0.,  0.,  0.,  0.,  0.,  0.,  0.],\n",
       "       [ 0.,  0.,  0.,  0.,  0.,  0.,  0.,  0.,  0.,  0.]])"
      ]
     },
     "execution_count": 55,
     "metadata": {},
     "output_type": "execute_result"
    }
   ],
   "source": [
    "withAce"
   ]
  }
 ],
 "metadata": {
  "anaconda-cloud": {},
  "kernelspec": {
   "display_name": "Python [conda env:py3k]",
   "language": "python",
   "name": "conda-env-py3k-py"
  },
  "language_info": {
   "codemirror_mode": {
    "name": "ipython",
    "version": 3
   },
   "file_extension": ".py",
   "mimetype": "text/x-python",
   "name": "python",
   "nbconvert_exporter": "python",
   "pygments_lexer": "ipython3",
   "version": "3.6.0"
  }
 },
 "nbformat": 4,
 "nbformat_minor": 1
}
